{
 "cells": [
  {
   "attachments": {},
   "cell_type": "markdown",
   "id": "7e7406e3",
   "metadata": {},
   "source": [
    "# TPE template matching\n",
    "\n",
    "In this demo we show how to use `tissue-detection` for template matching of TPE data"
   ]
  },
  {
   "cell_type": "code",
   "execution_count": null,
   "id": "cc6854da",
   "metadata": {
    "lines_to_next_cell": 2
   },
   "outputs": [],
   "source": [
    "from pathlib import Path\n",
    "import cv2\n",
    "import numpy as np\n",
    "import tissue_detection\n",
    "import matplotlib.pyplot as plt"
   ]
  },
  {
   "cell_type": "code",
   "execution_count": null,
   "id": "c89ed041",
   "metadata": {},
   "outputs": [],
   "source": [
    "img = cv2.imread(tissue_detection.examples.files[\"A13_firstframe\"].as_posix(), cv2.IMREAD_GRAYSCALE)\n",
    "template = tissue_detection.tpe.TPE1()\n",
    "result = template.match(img)\n",
    "\n",
    "fig, ax = plt.subplots(2, 3, figsize=(12, 10))\n",
    "ax[0, 0].imshow(img)\n",
    "ax[0, 0].imshow(result.result, alpha=0.4)\n",
    "ax[0, 0].set_title(\"Match\")\n",
    "\n",
    "ax[0, 1].imshow(result.match_result)\n",
    "ax[0, 1].set_title(\"Template match error\")\n",
    "ax[0, 2].imshow(result.template_padded)\n",
    "ax[0, 2].set_title(\"Padded template\")\n",
    "\n",
    "ax[1, 0].imshow(result.template)\n",
    "ax[1, 0].set_title(\"Template\")\n",
    "ax[1, 1].imshow(result.template_mask)\n",
    "ax[1, 1].set_title(\"Template mask\")\n",
    "ax[1, 2].imshow(result.result)\n",
    "ax[1, 2].set_title(\"Mask\")\n",
    "\n",
    "fig, ax = plt.subplots(2, 2, sharex=True, sharey=True)\n",
    "for i, axi in enumerate(ax.flatten(), start=1):\n",
    "    mask = np.zeros_like(result.result)\n",
    "    mask[result.result == i] = 1\n",
    "    axi.imshow(mask)\n",
    "    axi.set_title(f\"Tissue {i}\")\n",
    "\n",
    "plt.show()"
   ]
  }
 ],
 "metadata": {
  "jupytext": {
   "cell_metadata_filter": "-all",
   "main_language": "python",
   "notebook_metadata_filter": "-all"
  },
  "language_info": {
   "name": "python"
  }
 },
 "nbformat": 4,
 "nbformat_minor": 5
}
