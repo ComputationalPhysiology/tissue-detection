{
 "cells": [
  {
   "attachments": {},
   "cell_type": "markdown",
   "id": "7e7406e3",
   "metadata": {},
   "source": [
    "# Template matching of fluorescence data"
   ]
  },
  {
   "cell_type": "code",
   "execution_count": null,
   "id": "cc6854da",
   "metadata": {
    "lines_to_next_cell": 2
   },
   "outputs": [],
   "source": [
    "from pathlib import Path\n",
    "import cv2\n",
    "import numpy as np\n",
    "import tissue_detection\n",
    "import matplotlib.pyplot as plt\n",
    "import mps"
   ]
  },
  {
   "attachments": {},
   "cell_type": "markdown",
   "id": "e89335ae",
   "metadata": {},
   "source": [
    "Let us download some fluorescence data that was used during the Simber workshop"
   ]
  },
  {
   "cell_type": "code",
   "execution_count": null,
   "id": "02eb58c0",
   "metadata": {},
   "outputs": [],
   "source": [
    "tpe_data_path = Path(\"tpe.npy\")\n",
    "\n",
    "def download_data():\n",
    "    print(\"Downloading data. Please wait...\")\n",
    "    link = \"https://www.dropbox.com/s/5yyx286v17va5o9/tpe.npy?dl=1\"\n",
    "    import urllib.request\n",
    "    import time\n",
    "\n",
    "    urllib.request.urlretrieve(link, tpe_data_path)\n",
    "    time.sleep(1.0)\n",
    "    print(\"Done downloading data\")\n",
    "    \n",
    "if not tpe_data_path.is_file():\n",
    "    download_data()\n",
    "    \n",
    "data = mps.MPS(tpe_data_path)"
   ]
  },
  {
   "attachments": {},
   "cell_type": "markdown",
   "id": "fd360948",
   "metadata": {},
   "source": [
    "Let us extract the first frame and plot it"
   ]
  },
  {
   "cell_type": "code",
   "execution_count": null,
   "id": "c89ed041",
   "metadata": {},
   "outputs": [],
   "source": [
    "img = data.frames[:, :, 0]\n",
    "plt.imshow(img)"
   ]
  },
  {
   "attachments": {},
   "cell_type": "markdown",
   "id": "fa5b7a4e",
   "metadata": {},
   "source": [
    "Now lets select the template and also include the pilars in the template"
   ]
  },
  {
   "cell_type": "code",
   "execution_count": null,
   "id": "dcc3d4cf",
   "metadata": {},
   "outputs": [],
   "source": [
    "template = tissue_detection.tpe.TPE1(include_pilars=True)"
   ]
  },
  {
   "attachments": {},
   "cell_type": "markdown",
   "id": "043e8a64",
   "metadata": {},
   "source": [
    "First let's try to run this using the default settings."
   ]
  },
  {
   "cell_type": "code",
   "execution_count": null,
   "id": "4200d5be",
   "metadata": {},
   "outputs": [],
   "source": [
    "result = template.match(img)\n",
    "\n",
    "fig, ax = plt.subplots(2, 3, figsize=(12, 10))\n",
    "ax[0, 0].imshow(img)\n",
    "ax[0, 0].imshow(result.result, alpha=0.4)\n",
    "ax[0, 0].set_title(\"Match\")\n",
    "\n",
    "ax[0, 1].imshow(result.match_result)\n",
    "ax[0, 1].set_title(\"Template match error\")\n",
    "ax[0, 2].imshow(img)\n",
    "ax[0, 2].set_title(\"Original image\")\n",
    "\n",
    "ax[1, 0].imshow(result.template)\n",
    "ax[1, 0].set_title(\"Template\")\n",
    "ax[1, 1].imshow(result.template_mask)\n",
    "ax[1, 1].set_title(\"Template mask\")\n",
    "ax[1, 2].imshow(result.result)\n",
    "ax[1, 2].set_title(\"Mask\")\n",
    "\n",
    "fig, ax = plt.subplots(2, 2, sharex=True, sharey=True)\n",
    "for i, axi in enumerate(ax.flatten(), start=1):\n",
    "    mask = np.zeros_like(result.result)\n",
    "    mask[result.result == i] = 1\n",
    "    axi.imshow(mask)\n",
    "    axi.set_title(f\"Tissue {i}\")\n",
    "\n",
    "plt.show()"
   ]
  },
  {
   "attachments": {},
   "cell_type": "markdown",
   "id": "cdaaaf63",
   "metadata": {},
   "source": [
    "What we see is that the template is way too big. This is because this data is actually downsampled by a factor of 0.5. We can add this information to the matching algorithm"
   ]
  },
  {
   "cell_type": "code",
   "execution_count": null,
   "id": "73d3b968",
   "metadata": {},
   "outputs": [],
   "source": [
    "result = template.match(img, padding=50, scale=0.5)\n",
    "\n",
    "fig, ax = plt.subplots(2, 3, figsize=(12, 10))\n",
    "ax[0, 0].imshow(img)\n",
    "ax[0, 0].imshow(result.result, alpha=0.4)\n",
    "ax[0, 0].set_title(\"Match\")\n",
    "\n",
    "ax[0, 1].imshow(result.match_result)\n",
    "ax[0, 1].set_title(\"Template match error\")\n",
    "ax[0, 2].imshow(img)\n",
    "ax[0, 2].set_title(\"Original image\")\n",
    "\n",
    "ax[1, 0].imshow(result.template)\n",
    "ax[1, 0].set_title(\"Template\")\n",
    "ax[1, 1].imshow(result.template_mask)\n",
    "ax[1, 1].set_title(\"Template mask\")\n",
    "ax[1, 2].imshow(result.result)\n",
    "ax[1, 2].set_title(\"Mask\")\n",
    "\n",
    "fig, ax = plt.subplots(2, 2, sharex=True, sharey=True)\n",
    "for i, axi in enumerate(ax.flatten(), start=1):\n",
    "    mask = np.zeros_like(result.result)\n",
    "    mask[result.result == i] = 1\n",
    "    axi.imshow(mask)\n",
    "    axi.set_title(f\"Tissue {i}\")\n",
    "\n",
    "plt.show()"
   ]
  },
  {
   "attachments": {},
   "cell_type": "markdown",
   "id": "a7f453ae",
   "metadata": {},
   "source": [
    "This looks better but it is still not a good match. We can try to invert the pixel values in the image"
   ]
  },
  {
   "cell_type": "code",
   "execution_count": null,
   "id": "10c3e35c",
   "metadata": {},
   "outputs": [],
   "source": [
    "result = template.match(img, padding=50, scale=0.5, invert=True)\n",
    "\n",
    "fig, ax = plt.subplots(2, 3, figsize=(12, 10))\n",
    "ax[0, 0].imshow(img)\n",
    "ax[0, 0].imshow(result.result, alpha=0.4)\n",
    "ax[0, 0].set_title(\"Match\")\n",
    "\n",
    "ax[0, 1].imshow(result.match_result)\n",
    "ax[0, 1].set_title(\"Template match error\")\n",
    "ax[0, 2].imshow(img)\n",
    "ax[0, 2].set_title(\"Original image\")\n",
    "\n",
    "ax[1, 0].imshow(result.template)\n",
    "ax[1, 0].set_title(\"Template\")\n",
    "ax[1, 1].imshow(result.template_mask)\n",
    "ax[1, 1].set_title(\"Template mask\")\n",
    "ax[1, 2].imshow(result.result)\n",
    "ax[1, 2].set_title(\"Mask\")\n",
    "\n",
    "fig, ax = plt.subplots(2, 2, sharex=True, sharey=True)\n",
    "for i, axi in enumerate(ax.flatten(), start=1):\n",
    "    mask = np.zeros_like(result.result)\n",
    "    mask[result.result == i] = 1\n",
    "    axi.imshow(mask)\n",
    "    axi.set_title(f\"Tissue {i}\")\n",
    "\n",
    "plt.show()"
   ]
  },
  {
   "attachments": {},
   "cell_type": "markdown",
   "id": "b523ce06",
   "metadata": {},
   "source": [
    "Still, the results doesn't look great. Now let us try to help the algorithm by removing noise from the image. We can do this by first blurring the image, and then perform a thresholding"
   ]
  },
  {
   "cell_type": "code",
   "execution_count": null,
   "id": "64d40dc2",
   "metadata": {},
   "outputs": [],
   "source": [
    "\n",
    "blur = cv2.GaussianBlur(img, (25, 25), 10)\n",
    "th_value, thresh = cv2.threshold(blur, 0, 255, cv2.THRESH_BINARY + cv2.THRESH_OTSU)\n",
    "\n",
    "\n",
    "fig, ax = plt.subplots(1, 2, figsize=(10, 6))\n",
    "ax[0].imshow(img)\n",
    "ax[0].imshow(thresh, alpha=0.1, cmap=\"gray\")\n",
    "ax[1].imshow(thresh, cmap=\"gray\")\n",
    "plt.show()"
   ]
  },
  {
   "attachments": {},
   "cell_type": "markdown",
   "id": "d9157826",
   "metadata": {},
   "source": [
    "We can now use this thresholded image as input to the algorithm instead"
   ]
  },
  {
   "cell_type": "code",
   "execution_count": null,
   "id": "cd5198cb",
   "metadata": {},
   "outputs": [],
   "source": [
    "\n",
    "\n",
    "result = template.match(thresh, padding=50, scale=0.5)\n",
    "\n",
    "fig, ax = plt.subplots(2, 3, figsize=(12, 10))\n",
    "ax[0, 0].imshow(img)\n",
    "ax[0, 0].imshow(result.result, alpha=0.4)\n",
    "ax[0, 0].set_title(\"Match\")\n",
    "\n",
    "ax[0, 1].imshow(result.match_result)\n",
    "ax[0, 1].set_title(\"Template match error\")\n",
    "ax[0, 2].imshow(img)\n",
    "ax[0, 2].set_title(\"Original image\")\n",
    "\n",
    "ax[1, 0].imshow(result.template)\n",
    "ax[1, 0].set_title(\"Template\")\n",
    "ax[1, 1].imshow(result.template_mask)\n",
    "ax[1, 1].set_title(\"Template mask\")\n",
    "ax[1, 2].imshow(result.result)\n",
    "ax[1, 2].set_title(\"Mask\")\n",
    "\n",
    "fig, ax = plt.subplots(2, 2, sharex=True, sharey=True)\n",
    "for i, axi in enumerate(ax.flatten(), start=1):\n",
    "    mask = np.zeros_like(result.result)\n",
    "    mask[result.result == i] = 1\n",
    "    axi.imshow(mask)\n",
    "    axi.set_title(f\"Tissue {i}\")\n",
    "\n",
    "plt.show()"
   ]
  },
  {
   "attachments": {},
   "cell_type": "markdown",
   "id": "5366cc7f",
   "metadata": {},
   "source": [
    "And we see that we now got a good match. We can now use this mask to compute the signal from the four tissues."
   ]
  },
  {
   "cell_type": "code",
   "execution_count": null,
   "id": "1b84cc37",
   "metadata": {},
   "outputs": [],
   "source": [
    "fig, ax = plt.subplots()\n",
    "for i in range(1, 5):\n",
    "    mask = np.zeros(result.result.shape, dtype=bool)\n",
    "    mask[result.result == i] = True\n",
    "    y = data.frames[mask].mean(axis=0)\n",
    "    ax.plot(data.time_stamps, y, label=f\"tissue {i}\")\n",
    "\n",
    "ax.legend()\n",
    "plt.show()"
   ]
  }
 ],
 "metadata": {
  "jupytext": {
   "cell_metadata_filter": "-all",
   "main_language": "python",
   "notebook_metadata_filter": "-all"
  },
  "kernelspec": {
   "display_name": "venv",
   "language": "python",
   "name": "python3"
  },
  "language_info": {
   "codemirror_mode": {
    "name": "ipython",
    "version": 3
   },
   "file_extension": ".py",
   "mimetype": "text/x-python",
   "name": "python",
   "nbconvert_exporter": "python",
   "pygments_lexer": "ipython3",
   "version": "3.10.6"
  }
 },
 "nbformat": 4,
 "nbformat_minor": 5
}
